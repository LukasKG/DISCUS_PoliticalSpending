{
 "cells": [
  {
   "cell_type": "code",
   "execution_count": null,
   "id": "5d19997e",
   "metadata": {},
   "outputs": [],
   "source": [
    "import pandas as pd\n",
    "import numpy as np\n",
    "from IPython.display import display"
   ]
  },
  {
   "cell_type": "markdown",
   "id": "94aa8126-9e62-4827-84bc-75782fa5e77f",
   "metadata": {
    "tags": []
   },
   "source": [
    "# Process Data"
   ]
  },
  {
   "cell_type": "code",
   "execution_count": null,
   "id": "a389a3bd-9828-40ef-a0f6-83676b94f02f",
   "metadata": {
    "scrolled": true,
    "tags": []
   },
   "outputs": [],
   "source": [
    "#!/home/lgunthermann/miniconda3/envs/discushack22/bin/python3 process_csv.py"
   ]
  },
  {
   "cell_type": "code",
   "execution_count": null,
   "id": "a157120c-1fba-4f24-8165-89276cb61bad",
   "metadata": {},
   "outputs": [],
   "source": [
    "data_coding = pd.read_csv('data/processed/coding_both.csv')\n",
    "data_invoice = pd.read_csv('data/processed/invoices.csv')"
   ]
  },
  {
   "cell_type": "code",
   "execution_count": null,
   "id": "fc3bbae9-4ced-44ce-9bad-5d23657c4593",
   "metadata": {},
   "outputs": [],
   "source": [
    "df = pd.DataFrame().reindex(columns=data_coding.columns)\n",
    "df = df.rename(columns={\"Expense Category\": \"Expense Category (Coding)\"})\n",
    "df.insert(1,'ECRef',[])\n",
    "df.insert(6,'Expense Category (Invoice)',[])\n",
    "df.drop(['ID'], axis=1)"
   ]
  },
  {
   "cell_type": "markdown",
   "id": "19a353d1-ff16-4380-9dd4-42a808abfbb8",
   "metadata": {},
   "source": [
    "# Output Dataframe\n",
    "\n",
    "The new dataframe consists of 6 columns. \n",
    "- ECRef (linking the entry to the invoice list)\n",
    "- InvoiceID (ID of the invoice copy)\n",
    "- Supplier\n",
    "- Party\n",
    "- Total Spend\n",
    "- Error (Mismatch in total amounts, to identify invoices for manual annotation)\n",
    "- Expense Category (According to the coding list)\n",
    "- Expense Category (According to the invoice list)\n",
    "- 58 expense categorisations"
   ]
  },
  {
   "cell_type": "code",
   "execution_count": null,
   "id": "02bf1894-9d63-48f6-ae21-1e5f31def45b",
   "metadata": {},
   "outputs": [],
   "source": [
    "pd.set_option('display.max_rows', None)\n",
    "pd.set_option('display.max_columns', None)\n",
    "pd.set_option('display.width', None)\n",
    "pd.set_option('display.max_colwidth', None)\n",
    "\n",
    "def print_positions(party,supplier):\n",
    "    print(\"Invoices:\")\n",
    "    invoices = data_invoice.loc[ (data_invoice['RegulatedEntityName'] == party) & (data_invoice['SupplierName'] == supplier) ]\n",
    "    display(invoices)\n",
    "    print(\"Sum TotalExpenditure:\",invoices['TotalExpenditure'].sum())\n",
    "    print(\"\\nCoding:\")\n",
    "    display(data_coding.loc[ (data_coding['Party'] == party) & (data_coding['Supplier'] == supplier) ])\n",
    "    \n",
    "def print_supplier(supplier):\n",
    "    print(\"Invoices:\")\n",
    "    invoices = data_invoice.loc[ (data_invoice['SupplierName'] == supplier) ]\n",
    "    display(invoices)\n",
    "    print(\"Sum TotalExpenditure:\",invoices['TotalExpenditure'].sum())\n",
    "    print(\"\\nCoding:\")\n",
    "    display(data_coding.loc[ (data_coding['Supplier'] == supplier) ])\n",
    "    \n",
    "def get_nth_key(dictionary, n=0):\n",
    "    if n < 0:\n",
    "        n += len(dictionary)\n",
    "    for i, key in enumerate(dictionary.keys()):\n",
    "        if i == n:\n",
    "            return key\n",
    "    raise IndexError(\"dictionary index out of range\") "
   ]
  },
  {
   "cell_type": "code",
   "execution_count": null,
   "id": "2993072b-0b20-429e-b6ce-8595273dd3f0",
   "metadata": {
    "scrolled": true,
    "tags": []
   },
   "outputs": [],
   "source": [
    "#display(data_coding)"
   ]
  },
  {
   "cell_type": "markdown",
   "id": "70e9251d-3b3c-41b3-b746-ca9f3e69b714",
   "metadata": {
    "jp-MarkdownHeadingCollapsed": true,
    "tags": []
   },
   "source": [
    "# Data Preview"
   ]
  },
  {
   "cell_type": "code",
   "execution_count": null,
   "id": "fb20255a",
   "metadata": {},
   "outputs": [],
   "source": [
    "data_coding.head()"
   ]
  },
  {
   "cell_type": "code",
   "execution_count": null,
   "id": "4ec92af5",
   "metadata": {
    "scrolled": true
   },
   "outputs": [],
   "source": [
    "data_invoice.head()"
   ]
  },
  {
   "cell_type": "markdown",
   "id": "f1db14bd-854f-4cb1-a75e-9c6120b209f5",
   "metadata": {},
   "source": [
    "# Solver"
   ]
  },
  {
   "cell_type": "code",
   "execution_count": null,
   "id": "1eebdef3-efc5-4b18-9660-e0abf0bd5906",
   "metadata": {},
   "outputs": [],
   "source": [
    "def get_totals(invoice_amounts,total_values,prediction):\n",
    "    totals = np.zeros_like(total_values)\n",
    "    for amount, cat in zip(invoice_amounts,prediction):\n",
    "        totals[cat] += amount\n",
    "    return totals\n",
    "\n",
    "def get_error(invoice_amounts,total_values,prediction,loss='MSE',return_totals=False,return_diff=False):\n",
    "    diff = total_values - get_totals(invoice_amounts,total_values,prediction)\n",
    "    if loss == 'MSE':\n",
    "        error = np.square(diff)\n",
    "    else:\n",
    "        error = np.abs(diff)\n",
    "        \n",
    "    r = [np.mean(error)]\n",
    "    if return_totals: r+= [totals]\n",
    "    if return_diff: r+= [diff]\n",
    "    return r"
   ]
  },
  {
   "cell_type": "code",
   "execution_count": null,
   "id": "775b1ed5-a5a0-42e9-b577-3f7052067c27",
   "metadata": {},
   "outputs": [],
   "source": [
    "def random_solver(invoice_amounts,total_values,loss='MSE',max_iter=5,max_waiting_iter=1):\n",
    "    factor = invoice_amounts.shape[0] ** (len(total_values)-1)\n",
    "    max_iter = int(max_iter * factor)\n",
    "    max_waiting_iter = int(max_waiting_iter * factor)\n",
    "    pred = np.random.randint(low=0, high=len(total_values), size=invoice_amounts.shape[0], dtype=int)\n",
    "\n",
    "    error, diff = get_error(invoice_amounts,total_values,pred,loss,return_diff=True)\n",
    "    wait = 0\n",
    "    unvisited = list(range(len(pred)))\n",
    "    while len(unvisited) > 0:   \n",
    "        idx = unvisited.pop(0)\n",
    "        cat = pred[idx]\n",
    "        \n",
    "        #print(idx,unvisited)\n",
    "        \n",
    "        error_, diff_, cat_ = error, diff, cat\n",
    "        for c in range(len(total_values)):\n",
    "            if c==cat: continue\n",
    "            pred[idx] = c\n",
    "            e, d = get_error(invoice_amounts,total_values,pred,loss,return_diff=True)\n",
    "            #print(f\"{c=} {e=}\")\n",
    "            if e<error_:\n",
    "                error_, diff_, cat_ = e, d, c\n",
    "                \n",
    "        if error_ < error:\n",
    "            unvisited = list(range(len(pred)))\n",
    "            np.random.shuffle(unvisited)\n",
    "            #print(f\"Improvement! {error_}\")\n",
    "\n",
    "                \n",
    "        pred[idx] = cat_\n",
    "        error, diff = error_, diff_\n",
    "            \n",
    "    return pred"
   ]
  },
  {
   "cell_type": "code",
   "execution_count": null,
   "id": "9900aa10-9a39-4c20-ad1b-681091d440ed",
   "metadata": {},
   "outputs": [],
   "source": [
    "def genetic_algorithm(invoice_amounts,total_values,loss='MSE',N=100,max_iter=5,mutationRate=0.02):\n",
    "    No_Gen = invoice_amounts.shape[0]\n",
    "    No_Typ = len(total_values)\n",
    "    \n",
    "    factor = No_Gen ** (No_Typ-1)\n",
    "    max_iter = int(max_iter * factor)\n",
    "    \n",
    "    indeces = np.array([range(N)])\n",
    "    pop = np.random.randint(low=0, high=No_Typ, size=(N,No_Gen), dtype=int)\n",
    "    fit = np.array([get_error(invoice_amounts,total_values,pred,loss=loss)[0] for pred in pop])\n",
    "    \n",
    "    for it in range(max_iter):\n",
    "        champs = np.random.choice(indeces, size=2, replace=False)\n",
    "        \n",
    "        # determine winner\n",
    "        if fit[champs[1]] < fit[champs[0]]:\n",
    "            champs[0],champs[1] = champs[1],champs[0]\n",
    "            \n",
    "        # uniform crossover\n",
    "        for j in range(No_Gen):\n",
    "            # Mutation chance\n",
    "            if random.random() < mutationRate:\n",
    "                pop[champs[1],j] = np.random.randint(low=0, high=No_Typ, size=1, dtype=int)\n",
    "            \n",
    "            # 50% chance of overwritting\n",
    "            elif random.random() > 0.5:\n",
    "                pop[champs[1],j] = pop[champs[0],j] * ( 1 - 2 * int(round(random.random()-0.5+mutationRate)))\n",
    "\n",
    "\n",
    "        # determine fitness of newly combined individual\n",
    "        fit[champs[1]] = calcFit(pop[champs[1]])"
   ]
  },
  {
   "cell_type": "code",
   "execution_count": null,
   "id": "02dbf6da",
   "metadata": {
    "scrolled": true,
    "tags": []
   },
   "outputs": [],
   "source": [
    "parties = pd.concat((data_coding['Party'], data_invoice['RegulatedEntityName'])).unique()\n",
    "categories = data_coding.columns[5:]\n",
    "\n",
    "error_acc = 0\n",
    "row_list = []\n",
    "\n",
    "for party in parties:\n",
    "    party_coding = data_coding[ data_coding['Party']==party ]\n",
    "    party_invoice = data_invoice[ data_invoice['RegulatedEntityName']==party ]\n",
    "    \n",
    "    suppliers = pd.concat(( party_coding['Supplier'], party_invoice['SupplierName'] )).unique()\n",
    "    \n",
    "    for supplier in suppliers:\n",
    "        sup_coding = party_coding[ party_coding['Supplier']==supplier ]\n",
    "        sup_invoice = party_invoice[ party_invoice['SupplierName']==supplier ]\n",
    "        \n",
    "        sup_cats = {}\n",
    "        \n",
    "        for cat in categories:\n",
    "            val = np.sum(sup_coding[cat].values)\n",
    "            if val >= 0.01:\n",
    "                sup_cats[cat] = val\n",
    "        \n",
    "        if len(sup_cats) < 1:\n",
    "            continue\n",
    "        \n",
    "        spent = np.round(sup_coding['Total Spend'].sum(),2)\n",
    "        filed = np.round(sup_invoice['TotalExpenditure'].sum(),2)\n",
    "        \n",
    "        print(f\"{party} - {supplier}\")\n",
    "        print(f\"Diff = {abs(spent-filed)} ({spent=} | {filed=}) accross {len(sup_cats)} categories with {sup_coding.shape[0]} codings and {sup_invoice.shape[0]} invoices.\")\n",
    "        \n",
    "        # Estimate a proper matching if there's more than one invoice\n",
    "        # random encoding which invoice belongs to which category\n",
    "        if sup_invoice.shape[0] > 1:\n",
    "            values = np.fromiter(sup_cats.values(), dtype=float)\n",
    "            invoices = sup_invoice['TotalExpenditure'].values\n",
    "            \n",
    "            if len(values) <= 1:\n",
    "                prediction = np.zeros(invoices.shape[0],dtype=int)\n",
    "            else:\n",
    "                # Absolute error is fine for random solver as only one position is changed at the time\n",
    "                prediction = random_solver(invoices,values,loss='MAE')\n",
    "                \n",
    "                \n",
    "            \n",
    "            # get non-squared error\n",
    "            error = get_error(invoices,values,prediction,loss='MAE')[0]\n",
    "            error_acc += error\n",
    "\n",
    "            for i, (idx, row) in enumerate(sup_invoice.iterrows()):\n",
    "                val = row['TotalExpenditure']\n",
    "                entry = {\n",
    "                    'ECRef': row['ECRef'],\n",
    "                    'InvoiceID': row['RedactedSupportingInvoiceId'],\n",
    "                    'Supplier': supplier,\n",
    "                    'Party': party,\n",
    "                    'Total Spend': val,\n",
    "                    'Error': error,\n",
    "                    'Expense Category (Coding)': sup_coding['Expense Category'].mode()[0],\n",
    "                    'Expense Category (Invoice)': row['ExpenseCategoryName'],\n",
    "                    **{k:0 for k in categories}\n",
    "                        }\n",
    "\n",
    "                cat = get_nth_key(sup_cats, n=prediction[i])\n",
    "                entry[cat]=val\n",
    "\n",
    "                row_list.append(entry)\n",
    "        else:\n",
    "            row = sup_invoice.iloc[0]\n",
    "            entry = {\n",
    "                'ECRef': row['ECRef'],\n",
    "                'InvoiceID': row['RedactedSupportingInvoiceId'],\n",
    "                'Supplier': supplier,\n",
    "                'Party': party,\n",
    "                'Total Spend': row['TotalExpenditure'],\n",
    "                'Error': 0.0,\n",
    "                'Expense Category (Coding)': sup_coding['Expense Category'].mode()[0],\n",
    "                'Expense Category (Invoice)': row['ExpenseCategoryName'],\n",
    "                **{k:0 for k in categories}\n",
    "                    }\n",
    "            entry.update(sup_cats)\n",
    "            row_list.append(entry)\n",
    "            \n",
    "            \n",
    "        if False:\n",
    "            print(f\"{party} - {supplier}\")\n",
    "            print(f\"Diff = {abs(spent-filed)} ({spent=} | {filed=}) accross {len(sup_cats)} categories with {sup_coding.shape[0]} codings and {sup_invoice.shape[0]} invoices.\")\n",
    "\n",
    "            print(\"\\nCoding:\")\n",
    "            display(sup_coding)\n",
    "\n",
    "            print(\"\\nInvoice:\")\n",
    "            display(sup_invoice)\n",
    "            \n",
    "df = pd.DataFrame.from_dict(row_list)"
   ]
  },
  {
   "cell_type": "code",
   "execution_count": null,
   "id": "89a53d52-5a4d-409e-a0a4-0d642c25802d",
   "metadata": {},
   "outputs": [],
   "source": [
    "print(\"Error:\",error_acc)\n",
    "df.head()"
   ]
  },
  {
   "cell_type": "code",
   "execution_count": null,
   "id": "79899130-88f5-44eb-a9e7-e61fdc73c30b",
   "metadata": {},
   "outputs": [],
   "source": [
    "df.to_csv('data/processed/invoices_matched.csv', index=False)"
   ]
  },
  {
   "cell_type": "code",
   "execution_count": null,
   "id": "c93864ac-e032-4ceb-ba1b-2cc30776dc83",
   "metadata": {},
   "outputs": [],
   "source": [
    "df = df.sort_values(by=['Error'], ascending=False)\n",
    "df.head()"
   ]
  },
  {
   "cell_type": "code",
   "execution_count": null,
   "id": "d2c026a7-2e87-435e-8a4c-14125b472d25",
   "metadata": {},
   "outputs": [],
   "source": [
    "print_positions(party='Labour Party',supplier='Experian')"
   ]
  }
 ],
 "metadata": {
  "kernelspec": {
   "display_name": "discushack22",
   "language": "python",
   "name": "discushack22"
  },
  "language_info": {
   "codemirror_mode": {
    "name": "ipython",
    "version": 3
   },
   "file_extension": ".py",
   "mimetype": "text/x-python",
   "name": "python",
   "nbconvert_exporter": "python",
   "pygments_lexer": "ipython3",
   "version": "3.10.4"
  }
 },
 "nbformat": 4,
 "nbformat_minor": 5
}
