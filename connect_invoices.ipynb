{
 "cells": [
  {
   "cell_type": "code",
   "execution_count": null,
   "id": "5d19997e",
   "metadata": {},
   "outputs": [],
   "source": [
    "import pandas as pd\n",
    "import numpy as np\n",
    "from IPython.display import display"
   ]
  },
  {
   "cell_type": "markdown",
   "id": "94aa8126-9e62-4827-84bc-75782fa5e77f",
   "metadata": {
    "tags": []
   },
   "source": [
    "# Process Data"
   ]
  },
  {
   "cell_type": "markdown",
   "id": "38f91456-6493-471c-9509-ee3f03e9423c",
   "metadata": {},
   "source": [
    "### Update names in invoice and coding lists"
   ]
  },
  {
   "cell_type": "code",
   "execution_count": null,
   "id": "a389a3bd-9828-40ef-a0f6-83676b94f02f",
   "metadata": {
    "scrolled": true,
    "tags": []
   },
   "outputs": [],
   "source": [
    "#!/home/lgunthermann/miniconda3/envs/discushack22/bin/python3 process_csv.py"
   ]
  },
  {
   "cell_type": "markdown",
   "id": "4eb86b43-b0be-4e00-94d3-24d6598255db",
   "metadata": {},
   "source": [
    "### Match individual invoices with the amounts in the coding list"
   ]
  },
  {
   "cell_type": "code",
   "execution_count": null,
   "id": "87c1b896-3b41-4985-b4b1-c8fe2dd5350a",
   "metadata": {},
   "outputs": [],
   "source": [
    "#!/home/lgunthermann/miniconda3/envs/discushack22/bin/python3 match_invoices.py -v -s 'GA' -N 2"
   ]
  },
  {
   "cell_type": "markdown",
   "id": "19a353d1-ff16-4380-9dd4-42a808abfbb8",
   "metadata": {},
   "source": [
    "# Output Dataframe\n",
    "\n",
    "The new dataframe consists of 66 columns. \n",
    "- ECRef (linking the entry to the invoice list)\n",
    "- InvoiceID (ID of the invoice copy)\n",
    "- Supplier\n",
    "- Party\n",
    "- Total Spend\n",
    "- Error (Mismatch in total amounts, to identify invoices for manual annotation)\n",
    "- Expense Category (According to the coding list)\n",
    "- Expense Category (According to the invoice list)\n",
    "- 58 expense categorisations"
   ]
  },
  {
   "cell_type": "code",
   "execution_count": null,
   "id": "a157120c-1fba-4f24-8165-89276cb61bad",
   "metadata": {},
   "outputs": [],
   "source": [
    "data_coding = pd.read_csv('data/processed/coding_both.csv')\n",
    "data_invoice = pd.read_csv('data/processed/invoices.csv')\n",
    "df = pd.read_csv('data/processed/invoices_matched.csv')"
   ]
  },
  {
   "cell_type": "code",
   "execution_count": null,
   "id": "02bf1894-9d63-48f6-ae21-1e5f31def45b",
   "metadata": {},
   "outputs": [],
   "source": [
    "pd.set_option('display.max_rows', None)\n",
    "pd.set_option('display.max_columns', None)\n",
    "pd.set_option('display.width', None)\n",
    "pd.set_option('display.max_colwidth', None)\n",
    "\n",
    "def print_positions(party,supplier):\n",
    "    print(\"Invoices:\")\n",
    "    invoices = data_invoice.loc[ (data_invoice['RegulatedEntityName'] == party) & (data_invoice['SupplierName'] == supplier) ]\n",
    "    display(invoices)\n",
    "    print(\"Sum TotalExpenditure:\",invoices['TotalExpenditure'].sum())\n",
    "    print(\"\\n\\nCoding:\")\n",
    "    display(data_coding.loc[ (data_coding['Party'] == party) & (data_coding['Supplier'] == supplier) ])\n",
    "    print(\"\\n\\nMatched:\")\n",
    "    display(df.loc[ (df['Party'] == party) & (df['Supplier'] == supplier) ])\n",
    "    \n",
    "    \n",
    "def print_supplier(supplier):\n",
    "    print(\"Invoices:\")\n",
    "    invoices = data_invoice.loc[ (data_invoice['SupplierName'] == supplier) ]\n",
    "    display(invoices)\n",
    "    print(\"Sum TotalExpenditure:\",invoices['TotalExpenditure'].sum())\n",
    "    print(\"\\nCoding:\")\n",
    "    display(data_coding.loc[ (data_coding['Supplier'] == supplier) ])"
   ]
  },
  {
   "cell_type": "code",
   "execution_count": null,
   "id": "2993072b-0b20-429e-b6ce-8595273dd3f0",
   "metadata": {
    "scrolled": true,
    "tags": []
   },
   "outputs": [],
   "source": [
    "#display(data_coding)"
   ]
  },
  {
   "cell_type": "markdown",
   "id": "70e9251d-3b3c-41b3-b746-ca9f3e69b714",
   "metadata": {
    "jp-MarkdownHeadingCollapsed": true,
    "tags": []
   },
   "source": [
    "# Data Preview"
   ]
  },
  {
   "cell_type": "code",
   "execution_count": null,
   "id": "fb20255a",
   "metadata": {},
   "outputs": [],
   "source": [
    "data_coding.head()"
   ]
  },
  {
   "cell_type": "code",
   "execution_count": null,
   "id": "4ec92af5",
   "metadata": {
    "scrolled": true
   },
   "outputs": [],
   "source": [
    "data_invoice.head()"
   ]
  },
  {
   "cell_type": "code",
   "execution_count": null,
   "id": "49f7a575-8ba6-4191-b63f-512e0a08cbac",
   "metadata": {},
   "outputs": [],
   "source": [
    "df.head()"
   ]
  },
  {
   "cell_type": "markdown",
   "id": "f1db14bd-854f-4cb1-a75e-9c6120b209f5",
   "metadata": {},
   "source": [
    "# Solution"
   ]
  },
  {
   "cell_type": "code",
   "execution_count": null,
   "id": "89a53d52-5a4d-409e-a0a4-0d642c25802d",
   "metadata": {},
   "outputs": [],
   "source": [
    "df.head()"
   ]
  },
  {
   "cell_type": "code",
   "execution_count": null,
   "id": "c93864ac-e032-4ceb-ba1b-2cc30776dc83",
   "metadata": {},
   "outputs": [],
   "source": [
    "df = df.sort_values(by=['Error'], ascending=False)\n",
    "df.head()"
   ]
  },
  {
   "cell_type": "code",
   "execution_count": null,
   "id": "d2c026a7-2e87-435e-8a4c-14125b472d25",
   "metadata": {},
   "outputs": [],
   "source": [
    "print_positions(party='Labour Party',supplier='Experian')"
   ]
  }
 ],
 "metadata": {
  "kernelspec": {
   "display_name": "discushack22",
   "language": "python",
   "name": "discushack22"
  },
  "language_info": {
   "codemirror_mode": {
    "name": "ipython",
    "version": 3
   },
   "file_extension": ".py",
   "mimetype": "text/x-python",
   "name": "python",
   "nbconvert_exporter": "python",
   "pygments_lexer": "ipython3",
   "version": "3.10.4"
  }
 },
 "nbformat": 4,
 "nbformat_minor": 5
}
