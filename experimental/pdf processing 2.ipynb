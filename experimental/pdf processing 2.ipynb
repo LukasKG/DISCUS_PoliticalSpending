{
 "cells": [
  {
   "cell_type": "code",
   "execution_count": null,
   "id": "e777759e",
   "metadata": {},
   "outputs": [],
   "source": [
    "# download and install tesseract from here: https://github.com/UB-Mannheim/tesseract/wiki\n",
    "# install poppler : https://anaconda.org/conda-forge/poppler \n",
    "    # in anaconda prompt: conda install -c conda-forge poppler\n"
   ]
  },
  {
   "cell_type": "code",
   "execution_count": null,
   "id": "28e83f9c",
   "metadata": {},
   "outputs": [],
   "source": [
    "from pdf2image import convert_from_path\n",
    "\n",
    "from PIL import Image\n",
    "from pytesseract import pytesseract"
   ]
  },
  {
   "cell_type": "code",
   "execution_count": 1,
   "id": "5eedfbc6",
   "metadata": {},
   "outputs": [],
   "source": [
    "# pdf to an image\n",
    "pdfs = r\"invoices/pdf_trial2.pdf\"\n",
    "pages = convert_from_path(pdfs, 350)\n",
    "\n",
    "i = 1\n",
    "for page in pages:\n",
    "    image_name = \"Page_\" + str(i) + \".jpg\"  \n",
    "    page.save(image_name, \"JPEG\")\n",
    "    i = i+1       "
   ]
  },
  {
   "cell_type": "code",
   "execution_count": 2,
   "id": "ae62250e",
   "metadata": {},
   "outputs": [
    {
     "name": "stdout",
     "output_type": "stream",
     "text": [
      "e Brexit Party Organisaticn\n",
      "\n",
      "Date Item\n",
      "7-Nov-19 Manor House Single Bed & Breakfast\n",
      "7-Nov-19 Manor House Double Bed & Breakfast\n",
      "8-Nov-19 Manor House Single Bed & Breakfast\n",
      "8-Nov-19 Manor House Double Bed & Breakfast\n",
      "Deposit Due at 100%\n",
      "\n",
      "Proforma Number [i\n",
      "\n",
      "Page 1\n",
      "\n",
      "Date +Nov-i9\n",
      "\n",
      "Gross Rate Numbers\n",
      "\n",
      "£97.00 3\n",
      "£127.00 9\n",
      "£97.00 4\n",
      "£127.00 9\n",
      "\n",
      "Total\n",
      "£291.00\n",
      "£1,143.00\n",
      "£388.00\n",
      "£1,143.00\n",
      "\n",
      "£2,965.00\n",
      "\n",
      "To enable us to process your deposit payment efficiently, please quote the above\n",
      "pro forma reference number on all payments made to The Celtic Manor Resort\n",
      "\n",
      "surcharge bein Be n rd\n",
      "Please note This is Not a VAT Invoice\n",
      "\n",
      "To enabie you to pay us BACS we nave liste\n",
      "\n",
      "Cee\n",
      "\n"
     ]
    }
   ],
   "source": [
    "\n",
    "# Defining paths to tesseract.exe\n",
    "# and the image we would be using\n",
    "path_to_tesseract = r\"C:\\Program Files\\Tesseract-OCR\\tesseract.exe\"\n",
    "image_path = r\"Page_1.jpg\"\n",
    "\n",
    "# Opening the image & storing it in an image object\n",
    "img = Image.open(image_path)\n",
    "\n",
    "# Providing the tesseract executable\n",
    "# location to pytesseract library\n",
    "pytesseract.tesseract_cmd = path_to_tesseract\n",
    "\n",
    "# Passing the image object to image_to_string() function\n",
    "# This function will extract the text from the image\n",
    "text = pytesseract.image_to_string(img)\n",
    "\n",
    "# Displaying the extracted text\n",
    "print(text[:-1])\n"
   ]
  }
 ],
 "metadata": {
  "kernelspec": {
   "display_name": "Python 3",
   "language": "python",
   "name": "python3"
  },
  "language_info": {
   "codemirror_mode": {
    "name": "ipython",
    "version": 3
   },
   "file_extension": ".py",
   "mimetype": "text/x-python",
   "name": "python",
   "nbconvert_exporter": "python",
   "pygments_lexer": "ipython3",
   "version": "3.8.8"
  }
 },
 "nbformat": 4,
 "nbformat_minor": 5
}
